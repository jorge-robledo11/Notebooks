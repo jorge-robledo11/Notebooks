{
 "cells": [
  {
   "cell_type": "markdown",
   "metadata": {},
   "source": [
    "### **Diccionarios**\n",
    "\n",
    "Éstos son un conjunto de elementos no ordenados escritos entre llaves, `{}`, que constan de claves y valores. \n",
    "\n",
    "Cada conjunto `clave: valor` es separado por comas. Las claves funcionan como identificadores y preceden a `:`. A continuación van los valores, que son elementos (numéricos, booleanos, strings, listas, diccionarios...) asociados a esa clave. \n",
    "\n",
    "Los diccionarios, al igual que las listas, son:\n",
    "- Hetereogéneos: los elementos pueden ser de distinto tipo en un mismo diccionario\n",
    "- Mutables: los elementos pueden ser modificados"
   ]
  },
  {
   "cell_type": "code",
   "execution_count": 1,
   "metadata": {},
   "outputs": [
    {
     "name": "stdout",
     "output_type": "stream",
     "text": [
      "Jorge\n"
     ]
    }
   ],
   "source": [
    "# Key = Número\n",
    "dicc = {\n",
    "    1: 'Jorge',\n",
    "    2: 'Paula',\n",
    "    3: 'Celina',\n",
    "    4: 'Mariana'\n",
    "}\n",
    "\n",
    "# Accediendo al elemento\n",
    "print(dicc[1])"
   ]
  },
  {
   "cell_type": "code",
   "execution_count": 2,
   "metadata": {},
   "outputs": [
    {
     "name": "stdout",
     "output_type": "stream",
     "text": [
      "4\n"
     ]
    }
   ],
   "source": [
    "# Key = String\n",
    "dicc = {\n",
    "    'Jorge' : 1,\n",
    "    'Paula' : 2,\n",
    "    'Celina': 3,\n",
    "    'Mariana': 4\n",
    "}\n",
    "\n",
    "# Accediendo al elemento\n",
    "print(dicc['Mariana'])"
   ]
  },
  {
   "cell_type": "markdown",
   "metadata": {},
   "source": [
    "Los elementos de un `diccionario`, ya que no guardan un orden en su estructuración, accedemos a sus elementos por referencia o clave en lugar de posición como hacíamos con las `listas`"
   ]
  },
  {
   "cell_type": "code",
   "execution_count": 3,
   "metadata": {},
   "outputs": [
    {
     "name": "stdout",
     "output_type": "stream",
     "text": [
      "Las llaves del diccionario son: dict_keys(['names', 'ages', 'colors'])\n",
      "Los valores del diccionario son: dict_values([['Jorge', 'Paula', 'Celina', 'Mariana'], [29, 28, 60, 4], ['red', 'pink', 'blue', 'yellow']])\n"
     ]
    }
   ],
   "source": [
    "# Acceder a sus valores mediante métodos\n",
    "dicc = {\n",
    "    'names' : ['Jorge', 'Paula', 'Celina', 'Mariana'],\n",
    "    'ages'  : [29, 28, 60, 4],\n",
    "    'colors': ['red', 'pink', 'blue', 'yellow']\n",
    "}\n",
    "\n",
    "print(f'Las llaves del diccionario son: {dicc.keys()}')\n",
    "print(f'Los valores del diccionario son: {dicc.values()}')"
   ]
  },
  {
   "cell_type": "markdown",
   "metadata": {},
   "source": [
    "Al ser una estructura mutable, podemos modificar los valores de los diccionarios"
   ]
  },
  {
   "cell_type": "code",
   "execution_count": 4,
   "metadata": {},
   "outputs": [
    {
     "name": "stdout",
     "output_type": "stream",
     "text": [
      "Diccionario modificado: {'names': ['José', 'Pedro', 'Carlos', 'David'], 'ages': [29, 28, 60, 4], 'colors': ['red', 'white', 'blue', 'yellow']}\n"
     ]
    }
   ],
   "source": [
    "# Modificar un diccionario\n",
    "dicc = {\n",
    "    'names' : ['Jorge', 'Paula', 'Celina', 'Mariana'],\n",
    "    'ages'  : [29, 28, 60, 4],\n",
    "    'colors': ['red', 'pink', 'blue', 'yellow']\n",
    "}\n",
    "\n",
    "dicc['names'] = ['José', 'Pedro', 'Carlos', 'David']\n",
    "dicc['colors'][1] = 'white'\n",
    "print(f'Diccionario modificado: {dicc}')"
   ]
  },
  {
   "cell_type": "markdown",
   "metadata": {},
   "source": [
    "También podríamos a partir de un diccionario vacío ir introduciendo valores asociados a claves"
   ]
  },
  {
   "cell_type": "code",
   "execution_count": 5,
   "metadata": {},
   "outputs": [
    {
     "name": "stdout",
     "output_type": "stream",
     "text": [
      "Introduzca su nombre\n",
      "Introduzca su apellido\n",
      "Introduzca su edad\n",
      "¿Es hombre o mujer? En caso de ser mujer responda \"F\" y sino \"M\"\n",
      "{'name': 'Jorge', 'surname': 'Robledo', 'age': 29, 'genre': 'Male'}\n"
     ]
    }
   ],
   "source": [
    "# Formulario\n",
    "ficha_usuario = dict() # Diccionario vacío\n",
    "\n",
    "print('Introduzca su nombre')\n",
    "ficha_usuario['name'] = str(input()).capitalize()\n",
    "\n",
    "print('Introduzca su apellido')\n",
    "ficha_usuario['surname'] = str(input()).capitalize()\n",
    "\n",
    "print('Introduzca su edad')\n",
    "ficha_usuario['age'] = int(input())\n",
    "\n",
    "print('¿Es hombre o mujer? En caso de ser mujer responda \"F\" y sino \"M\"')\n",
    "ficha_usuario['genre'] = 'Female' if str(input().lower()) == 'F' else 'Male' # Operador ternario\n",
    "\n",
    "# Rellenado\n",
    "print(ficha_usuario)"
   ]
  },
  {
   "cell_type": "code",
   "execution_count": 6,
   "metadata": {},
   "outputs": [
    {
     "name": "stdout",
     "output_type": "stream",
     "text": [
      "username: msf\n",
      "name: María\n",
      "age: 22\n",
      "city: Palma de Mallorca\n"
     ]
    }
   ],
   "source": [
    "# Iterar sobre un diccionario\n",
    "dicc = {\n",
    "    'username': 'msf',\n",
    "    'name': 'María',\n",
    "    'age': 22,\n",
    "    'city': 'Palma de Mallorca'\n",
    "}\n",
    "\n",
    "for key in dicc:\n",
    "    print(f'{key}: {dicc[key]}')"
   ]
  },
  {
   "cell_type": "markdown",
   "metadata": {},
   "source": [
    "Otra forma de recorrer el diccionario sería obteniendo una lista de `tuplas` de la forma `(clave, valor)` para cada elemento de un diccionario, que construimos con el método `.items()`. Al ser una lista, sabemos que es iterable y podemos mostrar todas sus entradas haciendo uso de un bucle `for`"
   ]
  },
  {
   "cell_type": "code",
   "execution_count": 7,
   "metadata": {},
   "outputs": [
    {
     "name": "stdout",
     "output_type": "stream",
     "text": [
      "('username', 'msf')\n",
      "('name', 'María')\n",
      "('age', 22)\n",
      "('city', 'Palma de Mallorca')\n"
     ]
    }
   ],
   "source": [
    "for item in dicc.items():\n",
    "    print(item)"
   ]
  },
  {
   "cell_type": "markdown",
   "metadata": {},
   "source": [
    "Para tener clave y valor por separado, podemos hacerlo del siguiente modo:"
   ]
  },
  {
   "cell_type": "code",
   "execution_count": 8,
   "metadata": {},
   "outputs": [
    {
     "name": "stdout",
     "output_type": "stream",
     "text": [
      "names: ['Jorge', 'Paula', 'Celina', 'Mariana']\n",
      "ages: [29, 28, 60, 4]\n",
      "colors: ['red', 'pink', 'blue', 'yellow']\n"
     ]
    }
   ],
   "source": [
    "# Bucle doble\n",
    "dicc = {\n",
    "    'names' : ['Jorge', 'Paula', 'Celina', 'Mariana'],\n",
    "    'ages'  : [29, 28, 60, 4],\n",
    "    'colors': ['red', 'pink', 'blue', 'yellow']\n",
    "}\n",
    "\n",
    "for key, value in dicc.items():\n",
    "    print(f'{key}: {value}')"
   ]
  },
  {
   "cell_type": "markdown",
   "metadata": {},
   "source": [
    "### **Diccionarios y listas**\n",
    "\n",
    "Un diccionario puede contener listas u otros diccionarios. Por su parte, una lista puede contener diccionarios:"
   ]
  },
  {
   "cell_type": "code",
   "execution_count": 9,
   "metadata": {},
   "outputs": [
    {
     "name": "stdout",
     "output_type": "stream",
     "text": [
      "{'name': 'Elisa', 'age': 30, 'gender': 'female', 'ID': [4, 4, 2, 1, 5, 6, 7, 2, 'L'], 'user&password': {'username': 'eli88', 'password': '1234catsareawesome'}}\n",
      "{'name': 'Henry', 'age': 27, 'gender': 'male', 'ID': [1, 1, 0, 1, 3, 8, 6, 9, 'A'], 'user&password': {'username': 'superhenry', 'password': '1432supreme'}}\n"
     ]
    }
   ],
   "source": [
    "dicc_1 = {\n",
    "        'name': 'Elisa',\n",
    "        'age': 30,\n",
    "        'gender': 'female',\n",
    "        'ID': [4, 4, 2, 1, 5, 6, 7, 2, 'L'],\n",
    "        'user&password': {\n",
    "            'username': 'eli88',\n",
    "            'password': '1234catsareawesome'\n",
    "            }\n",
    "        }\n",
    "\n",
    "dicc_2 = {\n",
    "        'name': 'Henry',\n",
    "        'age': 27,\n",
    "        'gender': 'male',\n",
    "        'ID': [1, 1, 0, 1, 3, 8, 6, 9, 'A'],\n",
    "        'user&password': {\n",
    "            'username': 'superhenry',\n",
    "            'password': '1432supreme'\n",
    "            }\n",
    "        }\n",
    "\n",
    "lista = [dicc_1, dicc_2]\n",
    "\n",
    "for item in lista:\n",
    "  print(item)"
   ]
  },
  {
   "cell_type": "markdown",
   "metadata": {},
   "source": [
    "El método `.fromkeys()` recibe como parámetros un iterable y un valor y devuelve un diccionario que contiene como claves los elementos iterables con el mismo valor ingresado"
   ]
  },
  {
   "cell_type": "code",
   "execution_count": 10,
   "metadata": {},
   "outputs": [
    {
     "name": "stdout",
     "output_type": "stream",
     "text": [
      "{'a': None, 'b': None, 'c': None, 'd': None, 'e': None}\n"
     ]
    }
   ],
   "source": [
    "# Coloca valores a claves\n",
    "dicc = dict.fromkeys(['a', 'b', 'c', 'd', 'e'])\n",
    "print(dicc)"
   ]
  },
  {
   "cell_type": "markdown",
   "metadata": {},
   "source": [
    "El método `.update()` recibe como parámetro otro diccionario. En caso de tener claves, actualiza el valor de la clave repetida. En caso de no haber claves repetidas, el par `clave:valor` es agregado al diccionario al que es aplicado el método"
   ]
  },
  {
   "cell_type": "code",
   "execution_count": 11,
   "metadata": {},
   "outputs": [
    {
     "name": "stdout",
     "output_type": "stream",
     "text": [
      "{'a': 0, 'b': 2, 'c': 3, 'd': 4, 'e': 5}\n"
     ]
    }
   ],
   "source": [
    "# Actualizar un diccionario\n",
    "dicc1 = {'a': 1, 'b': 2, 'c': 3, 'd': 4}\n",
    "dicc2 = {'a': 0, 'b': 2, 'c': 3, 'e': 5}\n",
    "dicc1.update(dicc2)\n",
    "print(dicc1)"
   ]
  }
 ],
 "metadata": {
  "kernelspec": {
   "display_name": "Python 3.10.4 ('lynn')",
   "language": "python",
   "name": "python3"
  },
  "language_info": {
   "codemirror_mode": {
    "name": "ipython",
    "version": 3
   },
   "file_extension": ".py",
   "mimetype": "text/x-python",
   "name": "python",
   "nbconvert_exporter": "python",
   "pygments_lexer": "ipython3",
   "version": "3.10.4"
  },
  "orig_nbformat": 4,
  "vscode": {
   "interpreter": {
    "hash": "92073a8c30dde1ab596e56ff5cb9fa2f745c4f15a3073b2b9d3c325053134832"
   }
  }
 },
 "nbformat": 4,
 "nbformat_minor": 2
}
