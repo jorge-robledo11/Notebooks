{
 "cells": [
  {
   "cell_type": "markdown",
   "metadata": {},
   "source": [
    "### **Listas**\n",
    "\n",
    "- Heterogéneas: los elementos pueden ser de distinto tipo en una misma lista\n",
    "- Mutables: los elementos pueden ser modificados"
   ]
  },
  {
   "cell_type": "code",
   "execution_count": 2,
   "metadata": {},
   "outputs": [
    {
     "name": "stdout",
     "output_type": "stream",
     "text": [
      "Mario Andrés Juan José Pablo "
     ]
    }
   ],
   "source": [
    "# Lista\n",
    "names = ['Mario', 'Andrés', 'Juan', 'José', 'Pablo']\n",
    "\n",
    "# Recorrer el largo de una lista e imprimir lo que contiene\n",
    "for indice in range(len(names)):\n",
    "    print(names[indice], end=' ')"
   ]
  },
  {
   "cell_type": "code",
   "execution_count": 4,
   "metadata": {},
   "outputs": [
    {
     "name": "stdout",
     "output_type": "stream",
     "text": [
      "Esta es la lista:  ['a', 'b', 'c', 'd', 'e', 'a', 'b', 'c', 'd', 'e']\n",
      "La nueva lista es:  ['b', 'c', 'd', 'e', 'b', 'c', 'd', 'e']\n"
     ]
    }
   ],
   "source": [
    "# Remover un elemento\n",
    "l = ['a', 'b', 'c', 'd', 'e']\n",
    "l.extend(l)\n",
    "print('Esta es la lista: ', l)\n",
    "c = input('Elimina un elemento de la lista')\n",
    "\n",
    "for elemento in l:\n",
    "    if elemento is c:\n",
    "        l.remove(c)\n",
    "print('La nueva lista es: ', l)"
   ]
  },
  {
   "cell_type": "code",
   "execution_count": 13,
   "metadata": {},
   "outputs": [
    {
     "name": "stdout",
     "output_type": "stream",
     "text": [
      "La lista está ordenada: [5.0, 3.0, 2.0]\n"
     ]
    }
   ],
   "source": [
    "# Ordenar los elementos\n",
    "reversed = bool(input('Ascendente: 1 o Descendente: 0'))\n",
    "l = list()\n",
    "\n",
    "for _ in range(11):\n",
    "    l.append(float(input('Números: ')))\n",
    "\n",
    "l.sort(reverse=reversed)\n",
    "print(f'La lista está ordenada: {l}')"
   ]
  },
  {
   "cell_type": "code",
   "execution_count": 20,
   "metadata": {},
   "outputs": [
    {
     "name": "stdout",
     "output_type": "stream",
     "text": [
      "El 1 ocupa el índice 0\n",
      "El 3 ocupa el índice 1\n",
      "El 5 ocupa el índice 2\n",
      "El 7 ocupa el índice 3\n",
      "El 9 ocupa el índice 4\n",
      "El 11 ocupa el índice 5\n",
      "El 13 ocupa el índice 6\n",
      "El 15 ocupa el índice 7\n",
      "El 17 ocupa el índice 8\n",
      "El 19 ocupa el índice 9\n",
      "El 21 ocupa el índice 10\n",
      "El 23 ocupa el índice 11\n",
      "El 25 ocupa el índice 12\n",
      "El 27 ocupa el índice 13\n",
      "El 29 ocupa el índice 14\n"
     ]
    }
   ],
   "source": [
    "# Recorrer una lista de números impares y colocarle un índice\n",
    "for indice, valor in enumerate(list(range(1, 30, 2))):\n",
    "        print(f'El {valor} ocupa el índice {indice}')"
   ]
  },
  {
   "cell_type": "markdown",
   "metadata": {},
   "source": [
    "**Listas anidadas**\n",
    "\n",
    "Son listas dentro de listas. Es decir, las listas no solo pueden contenr números, strings o booleanos, sino que también pueden contener otras listas."
   ]
  },
  {
   "cell_type": "code",
   "execution_count": 22,
   "metadata": {},
   "outputs": [
    {
     "name": "stdout",
     "output_type": "stream",
     "text": [
      "Celina\n",
      "5\n"
     ]
    }
   ],
   "source": [
    "l = [['Jorge', 'Paula', 'Celina'],\n",
    "     ['Robledo',[1,2,3,4,5]],\n",
    "       25]\n",
    "\n",
    "print(l[0][2])\n",
    "print(l[1][1][4])"
   ]
  }
 ],
 "metadata": {
  "kernelspec": {
   "display_name": "Python 3.10.4 ('lynn')",
   "language": "python",
   "name": "python3"
  },
  "language_info": {
   "codemirror_mode": {
    "name": "ipython",
    "version": 3
   },
   "file_extension": ".py",
   "mimetype": "text/x-python",
   "name": "python",
   "nbconvert_exporter": "python",
   "pygments_lexer": "ipython3",
   "version": "3.10.4"
  },
  "orig_nbformat": 4,
  "vscode": {
   "interpreter": {
    "hash": "92073a8c30dde1ab596e56ff5cb9fa2f745c4f15a3073b2b9d3c325053134832"
   }
  }
 },
 "nbformat": 4,
 "nbformat_minor": 2
}
