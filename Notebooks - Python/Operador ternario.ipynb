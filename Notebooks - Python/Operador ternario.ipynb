{
 "cells": [
  {
   "cell_type": "markdown",
   "metadata": {},
   "source": [
    "**Operador ternario**\n",
    "\n",
    "consecuencia_verdadera `if` condición `else` consecuencia_falsa"
   ]
  },
  {
   "cell_type": "code",
   "execution_count": 1,
   "metadata": {},
   "outputs": [
    {
     "name": "stdout",
     "output_type": "stream",
     "text": [
      "Eres mayor de edad\n"
     ]
    }
   ],
   "source": [
    "# Operador ternario: Nos permite condensar las condiciones en una única instrucción\n",
    "age = 20\n",
    "consecuencia_1 = 'Eres mayor de edad'\n",
    "consecuencia_2 = 'Eres menor de edad'\n",
    "\n",
    "print(consecuencia_1) if age >= 18 else print(consecuencia_2)"
   ]
  },
  {
   "cell_type": "code",
   "execution_count": 2,
   "metadata": {},
   "outputs": [
    {
     "name": "stdout",
     "output_type": "stream",
     "text": [
      "El número es par 30\n"
     ]
    }
   ],
   "source": [
    "# Pares e impares\n",
    "numero = 30\n",
    "consecuencia_1 = 'El número es par'\n",
    "consecuencia_2 = 'El número es impar'\n",
    "\n",
    "print(f'{consecuencia_1} {numero}') if numero % 2 == 0 else print(f'{consecuencia_2} {numero}')"
   ]
  },
  {
   "cell_type": "code",
   "execution_count": 3,
   "metadata": {},
   "outputs": [
    {
     "name": "stdout",
     "output_type": "stream",
     "text": [
      "No es bisiesto\n"
     ]
    }
   ],
   "source": [
    "# Año bisiesto\n",
    "year = int(input('Año: '))\n",
    "\n",
    "if (year % 4 == 0) and (year % 100) and (year % 400):\n",
    "    print('El año es bisiesto')\n",
    "\n",
    "else:\n",
    "    print('No es bisiesto')"
   ]
  },
  {
   "cell_type": "code",
   "execution_count": 4,
   "metadata": {},
   "outputs": [
    {
     "name": "stdout",
     "output_type": "stream",
     "text": [
      "Los años bisiestos son: [2000, 2004, 2008, 2012, 2016, 2020, 2024, 2028, 2032, 2036, 2040, 2044, 2048]\n",
      "\n",
      "Los años no bisiestos son: [2000, 2001, 2002, 2003, 2005, 2006, 2007, 2009, 2010, 2011, 2013, 2014, 2015, 2017, 2018, 2019, 2021, 2022, 2023, 2025, 2026, 2027, 2029, 2030, 2031, 2033, 2034, 2035, 2037, 2038, 2039, 2041, 2042, 2043, 2045, 2046, 2047, 2049, 2050]\n"
     ]
    }
   ],
   "source": [
    "# Años bisiestos en list comprehension\n",
    "bisiesto = [year for year in range(2000, 2051) if (year % 4 == 0 and year % 100 != 0) or year % 400 == 0]\n",
    "print(f'Los años bisiestos son: {bisiesto}\\n')\n",
    "\n",
    "no_bisiesto = [year for year in range(2000, 2051) if not (year % 4 == 0 and year % 100 != 0) or year % 400 == 0]\n",
    "print(f'Los años no bisiestos son: {no_bisiesto}')"
   ]
  }
 ],
 "metadata": {
  "kernelspec": {
   "display_name": "Python 3.10.4 ('lynn')",
   "language": "python",
   "name": "python3"
  },
  "language_info": {
   "codemirror_mode": {
    "name": "ipython",
    "version": 3
   },
   "file_extension": ".py",
   "mimetype": "text/x-python",
   "name": "python",
   "nbconvert_exporter": "python",
   "pygments_lexer": "ipython3",
   "version": "3.10.4"
  },
  "orig_nbformat": 4,
  "vscode": {
   "interpreter": {
    "hash": "92073a8c30dde1ab596e56ff5cb9fa2f745c4f15a3073b2b9d3c325053134832"
   }
  }
 },
 "nbformat": 4,
 "nbformat_minor": 2
}
