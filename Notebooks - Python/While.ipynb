{
 "cells": [
  {
   "cell_type": "markdown",
   "metadata": {},
   "source": [
    "**While**\n",
    "\n",
    "La idea del bucle `while` es: mientras la condición sea cierta, seguimos realizando las líneas del interior del bucle. Una vez la condición deja de ser verdadera, salimos del bucle.\n",
    "\n",
    "Su estructura es la siguiente:"
   ]
  },
  {
   "cell_type": "code",
   "execution_count": null,
   "metadata": {},
   "outputs": [],
   "source": [
    "\"\"\"\n",
    "    variable_inicializadora\n",
    "    while condición_verdadera:\n",
    "        instrucción 1\n",
    "        instrucción 2\n",
    "        .\n",
    "        .\n",
    "        .\n",
    "        instrucción n\n",
    "\"\"\""
   ]
  },
  {
   "cell_type": "code",
   "execution_count": 1,
   "metadata": {},
   "outputs": [
    {
     "name": "stdout",
     "output_type": "stream",
     "text": [
      "1 2 3 4 5 6 7 8 9 10 "
     ]
    }
   ],
   "source": [
    "i = 1 # Variable inicializadora\n",
    "while i <= 10: # Condición verdadera\n",
    "    print(i, end=' ') # Imprimos por pantalla\n",
    "    i += 1 # Debemos modificar la variable inicalizadora"
   ]
  },
  {
   "cell_type": "code",
   "execution_count": 2,
   "metadata": {},
   "outputs": [
    {
     "name": "stdout",
     "output_type": "stream",
     "text": [
      "En la frase tenemos 14 vocales\n"
     ]
    }
   ],
   "source": [
    "frase = 'Lo esencial es invisible a los ojos'\n",
    "\n",
    "# Variables inicalizadoras\n",
    "indice = 0\n",
    "contador = 0\n",
    "\n",
    "# Condición verdadera\n",
    "while indice < len(frase):\n",
    "    if frase[indice] in {'a','e','i','o','u'} and frase[indice] != ' ':\n",
    "        # Si la condición se cumple el contador incrementa en 1\n",
    "        contador += 1\n",
    "    \n",
    "    # Inicializador se modifica en cada iteración para salir del bucle\n",
    "    indice += 1\n",
    "\n",
    "print(f'En la frase tenemos {contador} vocales')"
   ]
  },
  {
   "cell_type": "markdown",
   "metadata": {},
   "source": [
    "**Break**\n",
    "\n",
    "`break` es muy útil si dada una condición queremos que se interrumpa de un bucle `while`"
   ]
  },
  {
   "cell_type": "code",
   "execution_count": 3,
   "metadata": {},
   "outputs": [
    {
     "name": "stdout",
     "output_type": "stream",
     "text": [
      "El número 30 es divisible entre 2, 3 y 5\n"
     ]
    }
   ],
   "source": [
    "# Cotas\n",
    "a = int(input('Cota inferior: '))\n",
    "b = int(input('Cota superior: '))\n",
    "\n",
    "# Variable inicalizadora\n",
    "indice = a\n",
    "\n",
    "# Condición verdadera\n",
    "while indice <= b:\n",
    "    if (indice % 2 == 0) and (indice % 3 == 0) and (indice % 5 == 0):\n",
    "        print(f'El número {indice} es divisible entre 2, 3 y 5')\n",
    "        break\n",
    "    # Inicializador se modifica en cada iteración para salir del bucle\n",
    "    indice += 1\n",
    "\n",
    "# En caso de que el valor no se encuentre en las cotas\n",
    "else:\n",
    "    print(f'Dentro del intervalo proporcionado no hay números divisibles entre 2, 3 y 5')"
   ]
  },
  {
   "cell_type": "markdown",
   "metadata": {},
   "source": [
    "- Podemos combinar un bucle `while` con el operador de decisión `else` para ejecutar un bloque de código una vez que la condición del `while` haya dejado de ser verdadera.\n",
    "- Un `while` lo podemos interpretar como un `if` _sostenido_ hasta que una instrucción deja de ser verdadera."
   ]
  },
  {
   "cell_type": "code",
   "execution_count": 4,
   "metadata": {},
   "outputs": [
    {
     "name": "stdout",
     "output_type": "stream",
     "text": [
      "10 9 8 7 6 5 4 3 2 1 0 Se acaba la ejecución\n"
     ]
    }
   ],
   "source": [
    "# Variable inicializadora (Índice)\n",
    "i = 10\n",
    "\n",
    "# Condición verdadera\n",
    "while i >= 0:\n",
    "    print(i, end=' ')\n",
    "    # Inicializador se modifica en cada iteración para salir del bucle\n",
    "    i -= 1\n",
    "\n",
    "# Negamos la condición\n",
    "else:\n",
    "    print('Se acaba la ejecución')"
   ]
  },
  {
   "cell_type": "code",
   "execution_count": 5,
   "metadata": {},
   "outputs": [
    {
     "name": "stdout",
     "output_type": "stream",
     "text": [
      "La sumatoria es 121.0\n"
     ]
    }
   ],
   "source": [
    "numero = float(input('Introduce un número: '))\n",
    "\n",
    "# Variables inicializadoras\n",
    "contador = 0\n",
    "\n",
    "# Condición verdadera\n",
    "while numero != 0:\n",
    "    contador += numero\n",
    "    numero = float(input('Introduce un número: '))\n",
    "\n",
    "# Negamos para acabar el bucle\n",
    "else:\n",
    "    print(f'La sumatoria es {contador}')"
   ]
  }
 ],
 "metadata": {
  "kernelspec": {
   "display_name": "Python 3.10.4 ('lynn')",
   "language": "python",
   "name": "python3"
  },
  "language_info": {
   "codemirror_mode": {
    "name": "ipython",
    "version": 3
   },
   "file_extension": ".py",
   "mimetype": "text/x-python",
   "name": "python",
   "nbconvert_exporter": "python",
   "pygments_lexer": "ipython3",
   "version": "3.10.4"
  },
  "orig_nbformat": 4,
  "vscode": {
   "interpreter": {
    "hash": "92073a8c30dde1ab596e56ff5cb9fa2f745c4f15a3073b2b9d3c325053134832"
   }
  }
 },
 "nbformat": 4,
 "nbformat_minor": 2
}
