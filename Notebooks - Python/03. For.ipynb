{
 "cells": [
  {
   "cell_type": "markdown",
   "metadata": {},
   "source": [
    "### **For**\n",
    "\n",
    "La idea del bucle `for` es: _para todos los elementos de la clave, seguimos realizando las líneas del bucle_. Una vez nos quedemos sin elementos, salimos del bucle.\n",
    "\n",
    "Su estructura es la siguiente"
   ]
  },
  {
   "cell_type": "code",
   "execution_count": null,
   "metadata": {},
   "outputs": [],
   "source": [
    "\"\"\"\n",
    "    for clave:\n",
    "    instrucción 1\n",
    "    instrucción 2\n",
    "    .\n",
    "    .\n",
    "    .\n",
    "    instrucción n\n",
    "\"\"\""
   ]
  },
  {
   "cell_type": "code",
   "execution_count": 1,
   "metadata": {},
   "outputs": [
    {
     "name": "stdout",
     "output_type": "stream",
     "text": [
      "Me gusta Python"
     ]
    }
   ],
   "source": [
    "s = 'Me gusta Python'\n",
    "\n",
    "# Recorremos una colección\n",
    "for indice in s:\n",
    "    print(indice, end='') # Instrucción"
   ]
  },
  {
   "cell_type": "code",
   "execution_count": 2,
   "metadata": {},
   "outputs": [
    {
     "name": "stdout",
     "output_type": "stream",
     "text": [
      "egroJ"
     ]
    }
   ],
   "source": [
    "# Invertir un string\n",
    "s = 'Jorge'\n",
    "\n",
    "for i in s[::-1]:\n",
    "    print(i, end='')"
   ]
  },
  {
   "cell_type": "code",
   "execution_count": 3,
   "metadata": {},
   "outputs": [
    {
     "name": "stdout",
     "output_type": "stream",
     "text": [
      "Lista de tuplas: [(1, 'Uno'), (2, 'Dos'), (3, 'Tres'), (4, 'Cuatro'), (5, 'Cinco')]\n",
      "Los valores de la tuplas son: ['Uno', 'Dos', 'Tres', 'Cuatro', 'Cinco']\n"
     ]
    }
   ],
   "source": [
    "objetos = ['Uno', 'Dos', 'Tres', 'Cuatro', 'Cinco']\n",
    "l = list()\n",
    "l2 = list()\n",
    "\n",
    "# Enumeramos los objetos\n",
    "for i in enumerate(objetos, start=1):\n",
    "    l.append(i)\n",
    "\n",
    "print(f'Lista de tuplas: {l}')\n",
    "\n",
    "# Recorremos la lista que contiene tuplas\n",
    "for clave, valor in l:\n",
    "    l2.append(valor)\n",
    "\n",
    "print(f\"Los valores de la tuplas son: {l2}\")"
   ]
  },
  {
   "cell_type": "code",
   "execution_count": 4,
   "metadata": {},
   "outputs": [
    {
     "name": "stdout",
     "output_type": "stream",
     "text": [
      "-10 -9 -8 -7 -6 -5 -4 -3 -2 -1 0 "
     ]
    }
   ],
   "source": [
    "# Números negativos\n",
    "for i in range(-10, 1, 1):\n",
    "    print(i, end=' ')"
   ]
  },
  {
   "cell_type": "code",
   "execution_count": 5,
   "metadata": {},
   "outputs": [
    {
     "name": "stdout",
     "output_type": "stream",
     "text": [
      "La sumatoria de valores es: 25\n"
     ]
    }
   ],
   "source": [
    "# Sumatoria\n",
    "x = int(input('Cota Inicial: '))\n",
    "y = int(input('Cota Final: '))\n",
    "z = int(input('Diferencia: '))\n",
    "\n",
    "# Contador\n",
    "suma = 0\n",
    "\n",
    "for valor in range(x, y+1, z):\n",
    "    suma += valor\n",
    "\n",
    "print(f'La sumatoria de valores es: {valor}')"
   ]
  },
  {
   "cell_type": "markdown",
   "metadata": {},
   "source": [
    "**Continue**\n",
    "\n",
    "La declaración `continue` es similar a `break`, pero en vez de salir del bucle, lo que hace es interrumpir la iteración en la que se encuentra y empezar la siguiente iteración"
   ]
  },
  {
   "cell_type": "code",
   "execution_count": 6,
   "metadata": {},
   "outputs": [
    {
     "name": "stdout",
     "output_type": "stream",
     "text": [
      "1 3 7 9 11 13 17 19 21 23 27 29 31 33 37 39 41 43 47 49 51 53 57 59 61 63 67 69 71 73 77 79 81 83 87 89 91 93 97 99 "
     ]
    }
   ],
   "source": [
    "# Recorremos los valores del 0 al 100\n",
    "for valor in range(101):\n",
    "    # Si el número es multiplo de 2 ó de 5, se salta la iteración\n",
    "    if valor % 2 == 0 or valor % 5 == 0:\n",
    "        continue\n",
    "    print(valor, end=' ')"
   ]
  },
  {
   "cell_type": "code",
   "execution_count": 7,
   "metadata": {},
   "outputs": [
    {
     "name": "stdout",
     "output_type": "stream",
     "text": [
      "1 3 7 9 11 13 17 19 21 23 27 29 31 33 37 39 41 43 47 49 51 53 57 59 61 63 67 69 71 73 77 79 81 83 87 89 91 93 97 99 "
     ]
    }
   ],
   "source": [
    "# Recorremos los valores del 0 al 100\n",
    "for valor in range(101):\n",
    "    # Si el número es multiplo de 2 ó de 5, se salta la iteración\n",
    "    if valor % 2 != 0 and valor % 5 != 0:\n",
    "        print(valor, end=' ')"
   ]
  },
  {
   "cell_type": "code",
   "execution_count": 8,
   "metadata": {},
   "outputs": [
    {
     "name": "stdout",
     "output_type": "stream",
     "text": [
      "predecr el futuro resulta ser un negoco muy dfícl en sí"
     ]
    }
   ],
   "source": [
    "s1 = 'Predecir el futuro resulta ser un negocio muy difícil en sí'\n",
    "s2 = str(input('Letra quitada: '))\n",
    "\n",
    "s1 = s1.lower()\n",
    "s2 = s2.lower()\n",
    "# Recorremos caracter a caracter en el string\n",
    "for caracter in s1:\n",
    "    # Si el caracter es igual al proporcionado por el usuario salta la iteración\n",
    "    if caracter == s2:\n",
    "        continue\n",
    "    print(caracter, end='')"
   ]
  },
  {
   "cell_type": "code",
   "execution_count": 9,
   "metadata": {},
   "outputs": [
    {
     "name": "stdout",
     "output_type": "stream",
     "text": [
      "pensms demsd y sentms my pc"
     ]
    }
   ],
   "source": [
    "s1 = 'Pensamos demasiado y sentimos muy poco'\n",
    "s2 = str(input('Letra quitada: '))\n",
    "n_veces = int(input('Número de veces: '))\n",
    "\n",
    "s1 = s1.lower()\n",
    "s2 = s2.lower()\n",
    "contador = 0\n",
    "\n",
    "for caracter in s1:\n",
    "    if contador >= n_veces:\n",
    "        break\n",
    "\n",
    "    if caracter == s2:\n",
    "        contador += 1\n",
    "    \n",
    "    elif caracter in {'a','e','i','o','u'}:\n",
    "        continue\n",
    "    \n",
    "    print(caracter, end='')"
   ]
  }
 ],
 "metadata": {
  "kernelspec": {
   "display_name": "Python 3.10.4 ('lynn')",
   "language": "python",
   "name": "python3"
  },
  "language_info": {
   "codemirror_mode": {
    "name": "ipython",
    "version": 3
   },
   "file_extension": ".py",
   "mimetype": "text/x-python",
   "name": "python",
   "nbconvert_exporter": "python",
   "pygments_lexer": "ipython3",
   "version": "3.10.4"
  },
  "orig_nbformat": 4,
  "vscode": {
   "interpreter": {
    "hash": "92073a8c30dde1ab596e56ff5cb9fa2f745c4f15a3073b2b9d3c325053134832"
   }
  }
 },
 "nbformat": 4,
 "nbformat_minor": 2
}
