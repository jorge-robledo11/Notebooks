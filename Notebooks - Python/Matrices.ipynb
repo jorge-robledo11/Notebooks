{
 "cells": [
  {
   "cell_type": "markdown",
   "metadata": {},
   "source": [
    "### **Matrices**\n",
    "\n",
    "Hay un tipo muy utilizado de listas anidadas. Se caracteriza por ser una lista de $m$ listas, donde cada una de las listas tiene el mismo número de elementos, $n$. A este tipo de listas se les conoce como matrices."
   ]
  },
  {
   "cell_type": "code",
   "execution_count": 1,
   "metadata": {},
   "outputs": [],
   "source": [
    "matrix = [[1, 2, 3], [4, 5, 6], [7, 8, 9]]"
   ]
  },
  {
   "cell_type": "markdown",
   "metadata": {},
   "source": [
    "En matemáticas, las matrices se definen del siguiente modo.\n",
    "\n",
    "**Matriz.** Una matriz de dimensiones $m\\times n$ es una tabla formada por elementos dispuestos en $m$ filas y $n$ columnas de la forma\n",
    "\n",
    "$$A = \\begin{pmatrix}\n",
    "a_{11} & a_{12} & \\cdots & a_{1n}\\\\\n",
    "a_{21} & a_{22} & \\cdots & a_{2n}\\\\\n",
    "\\vdots & \\vdots & \\ddots & \\vdots\\\\\n",
    "a_{m1} & a_{m2} & \\cdots & a_{mn}\\end{pmatrix}$$\n",
    "\n",
    "Los elementos de la matriz se representan con doble subíndice, $a_{ij}$, donde el primero indica la fila a la que pertenece y, el segundo, la columna.\n",
    "\n",
    "Entonces, la matriz que hemos definido anteriormente"
   ]
  },
  {
   "cell_type": "code",
   "execution_count": 2,
   "metadata": {},
   "outputs": [
    {
     "name": "stdout",
     "output_type": "stream",
     "text": [
      "[[1, 2, 3], [4, 5, 6], [7, 8, 9]]\n"
     ]
    }
   ],
   "source": [
    "print(matrix)"
   ]
  },
  {
   "cell_type": "markdown",
   "metadata": {},
   "source": [
    "Escrita en forma de tabla sería: `matrix` $= \\displaystyle\\begin{pmatrix} 1 & 2 & 3\\\\ 4 & 5 & 6\\\\ 7 & 8 & 9\\end{pmatrix}$\n",
    "\n",
    "Para acceder a los elementos de una matriz en `Python`, utilizamos la sintaxis `[][]`, donde primero indicamos la fila y, a continuación, la columna"
   ]
  },
  {
   "cell_type": "code",
   "execution_count": 3,
   "metadata": {},
   "outputs": [
    {
     "name": "stdout",
     "output_type": "stream",
     "text": [
      "[1, 2, 3]\n",
      "[4, 5, 6]\n",
      "[7, 8, 9]\n"
     ]
    }
   ],
   "source": [
    "# Podemos acceder a todos los elementos de la matrix recorriéndola\n",
    "for row in matrix:\n",
    "    print(row)"
   ]
  },
  {
   "cell_type": "code",
   "execution_count": 4,
   "metadata": {},
   "outputs": [
    {
     "name": "stdout",
     "output_type": "stream",
     "text": [
      "1 2 3 4 5 6 7 8 9 "
     ]
    }
   ],
   "source": [
    "# Obteniendo los elementos y subelementos\n",
    "for row in matrix: # Accedemos a las filas de la matrix\n",
    "    for element in row: # Accedemos a los elementos de las filas\n",
    "        print(element, end=' ')"
   ]
  },
  {
   "cell_type": "code",
   "execution_count": 5,
   "metadata": {},
   "outputs": [
    {
     "name": "stdout",
     "output_type": "stream",
     "text": [
      "1 2 3 \n",
      "4 5 6 \n",
      "7 8 9 \n",
      "\n",
      "1 2 3 \n",
      "4 5 6 \n",
      "7 8 9 \n"
     ]
    }
   ],
   "source": [
    "# 1. Recorriendo por posición (índice)\n",
    "m = len(matrix) # Filas\n",
    "n = len(matrix[0]) # Columnas\n",
    "\n",
    "for row in range(m):\n",
    "    for column in range(n):\n",
    "        print(matrix[row][column], end=' ')\n",
    "    print('')\n",
    "\n",
    "print()\n",
    "\n",
    "# 2. Recorriendo por elemento\n",
    "for row in matrix:\n",
    "    for element in row:\n",
    "        print(element, end=' ')\n",
    "    print('')"
   ]
  },
  {
   "cell_type": "markdown",
   "metadata": {},
   "source": [
    "#### **Suma de matrices**\n",
    "\n",
    "Para poder sumar dos matrices, necesitamos que tengan la misma dimensión. Entonces, dadas $A$ y $B$ dos matrices con dimensión $m\\times n$, su suma será una matriz de dimensión $m\\times n$ y sus elementos se obtienen del siguiente modo:\n",
    "\n",
    "$$\\begin{array}{lll}A + B &=& (a_{ij})_{m\\times n} + (b_{ij})_{m\\times n} = (a_{ij} + b_{ij})_{m\\times n}\\\\ \n",
    "&=&\\begin{pmatrix} \n",
    "a_{11} & a_{12} & \\cdots & a_{1n}\\\\\n",
    "a_{21} & a_{22} & \\cdots & a_{2n}\\\\\n",
    "\\vdots & \\vdots & \\ddots & \\vdots\\\\\n",
    "a_{m1} & a_{m2} & \\cdots & a_{mn}\\\\\n",
    "\\end{pmatrix} + \\begin{pmatrix} \n",
    "b_{11} &b_{12} & \\cdots &b_{1n}\\\\\n",
    "b_{21} &b_{22} & \\cdots &b_{2n}\\\\\n",
    "\\vdots & \\vdots & \\ddots & \\vdots\\\\\n",
    "b_{m1} &b_{m2} & \\cdots & b_{mn}\\\\\n",
    "\\end{pmatrix} = \\begin{pmatrix} \n",
    "a_{11} + b_{11} & a_{12} + b_{12} & \\cdots & a_{1n} + b_{1n}\\\\\n",
    "a_{21} + b_{21} & a_{22} + b_{22} & \\cdots & a_{2n} + b_{2n}\\\\\n",
    "\\vdots & \\vdots & \\ddots & \\vdots\\\\\n",
    "a_{m1} + b_{m1} & a_{m2} + b_{m2} & \\cdots & a_{mn} + b_{mn}\\\\\n",
    "\\end{pmatrix}\n",
    "\\end{array}$$"
   ]
  },
  {
   "cell_type": "markdown",
   "metadata": {},
   "source": [
    "Dadas dos matrices con la misma dimensión, las podemos usar haciendo uso de bucles `for` anidados."
   ]
  },
  {
   "cell_type": "code",
   "execution_count": 6,
   "metadata": {},
   "outputs": [
    {
     "name": "stdout",
     "output_type": "stream",
     "text": [
      "Matriz resultante: [[0, -2, -3], [0, 3, 1], [-1, -1, -3]]\n"
     ]
    }
   ],
   "source": [
    "# Matrices\n",
    "A = [[1, 0, -3], [2, 0, 1], [-1, -1, 0]]\n",
    "B = [[-1, -2, 0], [-2, 3, 0], [0, 0, -3]]\n",
    "\n",
    "# Hallamos las filas y columnas\n",
    "m = len(A) # Filas\n",
    "n = len(A[0]) # Columnas\n",
    "\n",
    "# Si el número de filas y columnas coinciden en ambas matrices\n",
    "try: \n",
    "  len(A) == len(B) and len(A[0]) == len(B[0])\n",
    "  \n",
    "  # Procedimiento\n",
    "  C = list()\n",
    "  for i in range(m):\n",
    "    C.append(list())\n",
    "    for j in range(n):\n",
    "      C[i].append(A[i][j] + B[i][j])\n",
    "\n",
    "  print(f'Matriz resultante: {C}')\n",
    "\n",
    "except IndexError:\n",
    "    print('Erorr en las dimensiones de las matrices')\n",
    "\n",
    "except Exception as e:\n",
    "    print(f'No se puede realizar la suma, tenemos un error de tipo: {type(e).__name__}')"
   ]
  },
  {
   "cell_type": "markdown",
   "metadata": {},
   "source": [
    "El resultado de sumar las matrices $A$ y $B$ ha sido:\n",
    "\n",
    "$$\\begin{pmatrix}\n",
    "1 & 0 & -3\\\\\n",
    "2 & 0 & 1\\\\\n",
    "-1 & -1 & 0\\end{pmatrix} + \\begin{pmatrix}\n",
    "-1 & -2 & 0\\\\\n",
    "-2 & -3 & 0\\\\\n",
    "0 & 0 & -3\\end{pmatrix} = \n",
    "\\begin{pmatrix}\n",
    "0 & -2 & -3\\\\\n",
    "0 & -3 & 1\\\\\n",
    "-1 & -1 & -3\\end{pmatrix}$$"
   ]
  },
  {
   "cell_type": "code",
   "execution_count": 7,
   "metadata": {},
   "outputs": [
    {
     "name": "stdout",
     "output_type": "stream",
     "text": [
      "[0, -2, -3]\n",
      "[0, 3, 1]\n",
      "[-1, -1, -3]\n"
     ]
    }
   ],
   "source": [
    "# Recorremos la matriz resultante\n",
    "for row in C:\n",
    "    print(row)"
   ]
  },
  {
   "cell_type": "markdown",
   "metadata": {},
   "source": [
    "**Observación** Hemos puesto un `try` que, suponiendo que tanto $A$ como $B$ son matrices, prueba si sus dimensiones coinciden. De ser cierto, procede a hacer la suma. De lo contrario, nos arroja una excepción indicando que la suma no puede llevarse a cabo."
   ]
  },
  {
   "cell_type": "markdown",
   "metadata": {},
   "source": [
    "#### **Producto de matrices**\n",
    "\n",
    "Para poder multiplicar matrices, necesitamos que la matriz de la izquierda tenga el mismo número de columnas que número de filas tiene la matriz de la derecha. Entonces, dadas las matrices $A$ y $B$ de dimensiones $m\\times n$ y $n\\times p$ respectivamente, su producto será una matriz de dimensión $m\\times p$ y se obtiene del siguiente modo:\n",
    "\n",
    "$$\\begin{array}{lll}A\\cdot B &=& (a_{ij})_{m\\times n}\\cdot (b_{ij})_{n\\times p} = \\left(\\sum_{k = 1}^n a_{ik}\\cdot b_{kj}\\right)_{m\\times p}\\\\\n",
    "&=& \\begin{pmatrix} \n",
    "a_{11} & a_{12} & \\cdots & a_{1n}\\\\\n",
    "a_{21} & a_{22} & \\cdots & a_{2n}\\\\\n",
    "\\vdots & \\vdots & \\ddots & \\vdots\\\\\n",
    "a_{m1} & a_{m2} & \\cdots & a_{mn}\\\\\n",
    "\\end{pmatrix} \\cdot \\begin{pmatrix} \n",
    "b_{11} &b_{12} & \\cdots &b_{1p}\\\\\n",
    "b_{21} &b_{22} & \\cdots &b_{2p}\\\\\n",
    "\\vdots & \\vdots & \\ddots & \\vdots\\\\\n",
    "b_{n1} &b_{n2} & \\cdots & b_{np}\\\\\n",
    "\\end{pmatrix} = \\begin{pmatrix} \n",
    "a_{11}\\cdot b_{11} + a_{12} \\cdot b_{21} + \\cdots + a_{1n}\\cdot b_{n1} & \\sum_{k = 1}^n a_{1k}\\cdot b_{k2} & \\cdots & \\sum_{k = 1}^n a_{1k}\\cdot b_{kp}\\\\\n",
    "a_{21}\\cdot b_{11} + a_{22} \\cdot b_{21} + \\cdots + a_{2n}\\cdot b_{n1} & \\sum_{k = 1}^n a_{2k}\\cdot b_{k2} & \\cdots & \\sum_{k = 1}^n a_{2k}\\cdot b_{kp}\\\\\n",
    "\\vdots & \\vdots & \\ddots & \\vdots\\\\\n",
    "a_{m1}\\cdot b_{11} + a_{m2} \\cdot b_{21} + \\cdots + a_{mn}\\cdot b_{n1} & \\sum_{k = 1}^n a_{mk}\\cdot b_{k2} & \\cdots & \\sum_{k = 1}^n a_{mk}\\cdot b_{kp}\n",
    "\\end{pmatrix}\\end{array}$$\n",
    "\n",
    "Dadas dos matrices, la primera con el mismo número de columnas que filas tiene la segunda, podemos multiplicarlas del siguiente modo:"
   ]
  },
  {
   "cell_type": "code",
   "execution_count": 8,
   "metadata": {},
   "outputs": [
    {
     "name": "stdout",
     "output_type": "stream",
     "text": [
      "Matriz resultante: [[1, 0, 7], [-1, -3, -4], [1, 2, 3]]\n"
     ]
    }
   ],
   "source": [
    "# Matrices\n",
    "A = [[1, 0, -3, 2], [2, 0, 1, 1], [-1, 0, -1, 0]]\n",
    "B = [[-1, -2, 0], [-2, 3, 0], [0, 0, -3], [1, 1, -1]]\n",
    "\n",
    "# Dimensiones\n",
    "m, n, p, q = len(A), len(B), len(B[0]), len(A[0])\n",
    "\n",
    "\"\"\" \n",
    "    Propiedades:\n",
    "    m => Número de filas de A\n",
    "    n => Número de filas de B\n",
    "    p => Número de columnas de B\n",
    "    q => Número de columnas de A\n",
    "\"\"\"\n",
    "\n",
    "try:\n",
    "  # Deben coincidir el número de filas de A con el número de columnas de B\n",
    "  m == p or n == q\n",
    "\n",
    "  # Procedimiento\n",
    "  C = list()\n",
    "  for i in range(m):\n",
    "    C.append(list())\n",
    "    for j in range(p):\n",
    "      elemento = 0\n",
    "      for k in range(n):\n",
    "        elemento = elemento + A[i][k] * B[k][j]\n",
    "      C[i].append(elemento)\n",
    "  \n",
    "  print(f'Matriz resultante: {C}')\n",
    "\n",
    "except IndexError:\n",
    "    print('Erorr en las dimensiones de las matrices')\n",
    "\n",
    "except Exception as e:\n",
    "  print(f'No se puede realizar el producto de matrices, tenemos un error de tipo: {type(e).__name__} ')"
   ]
  },
  {
   "cell_type": "markdown",
   "metadata": {},
   "source": [
    "El resultado de multiplicar las matrices $A$ y $B$ ha sido:\n",
    "\n",
    "$$\\begin{array}{lll} A\\cdot B &=& \n",
    "\\begin{pmatrix}\n",
    "1 & 0 & -3 & 2\\\\\n",
    "2 & 0 & 1 & 1\\\\\n",
    "-1 & 0 & -1 & 0\n",
    "\\end{pmatrix}\\cdot\\begin{pmatrix}\n",
    "-1 & -2 & 0\\\\\n",
    "-2 & 3 & 0\\\\\n",
    "0 & 0 & -3\\\\\n",
    "1 & 1 & -1\n",
    "\\end{pmatrix}\\\\ &=& \\begin{pmatrix}\n",
    "1\\cdot (-1) + 0\\cdot (-2) -3\\cdot 0 + 2\\cdot 1 & 1\\cdot (-2) + 0\\cdot 3 -3\\cdot 0 + 2\\cdot 1 & 1\\cdot 0 + 0\\cdot 0 -3\\cdot (-3) + 2\\cdot (-1)\\\\\n",
    "2\\cdot (-1) + 0\\cdot (-2) + 1\\cdot 0 + 1\\cdot 1  & 2\\cdot (-2) + 0\\cdot 3 + 1\\cdot 0 + 1\\cdot 1 & 2\\cdot 0 + 0\\cdot 0 + 1\\cdot (-3) + 1\\cdot (-1)\\\\\n",
    "-1\\cdot (-1) + 0\\cdot (-2) -1\\cdot 0 + 0\\cdot 1  & -1\\cdot (-2) + 0\\cdot 3 -1\\cdot 0 + 0\\cdot 1 & -1\\cdot 0 + 0\\cdot 0 -1\\cdot (-3) + 0\\cdot (-1)\n",
    "\\end{pmatrix}\\\\ &=& \\begin{pmatrix}\n",
    "1 & 0 & 7\\\\\n",
    "-1 & -3 & -4\\\\\n",
    "1 & 2 & 3\n",
    "\\end{pmatrix}\n",
    "\\end{array}$$"
   ]
  },
  {
   "cell_type": "code",
   "execution_count": 9,
   "metadata": {},
   "outputs": [
    {
     "name": "stdout",
     "output_type": "stream",
     "text": [
      "[1, 0, 7]\n",
      "[-1, -3, -4]\n",
      "[1, 2, 3]\n"
     ]
    }
   ],
   "source": [
    "# Recorremos la matriz resultante\n",
    "for row in C:\n",
    "    print(row)"
   ]
  },
  {
   "cell_type": "markdown",
   "metadata": {},
   "source": [
    "#### **Matrices con `numpy`**\n",
    "\n",
    "Existe una forma más sencilla de trabajar con matrices y es gracias a la librería `numpy`. Para importarla, simplemente hay que ejecutar la siguiente línea de código."
   ]
  },
  {
   "cell_type": "markdown",
   "metadata": {},
   "source": [
    "Podemos crear matrices de numpy a partir de listas con el método `.matrix()`"
   ]
  },
  {
   "cell_type": "code",
   "execution_count": 10,
   "metadata": {},
   "outputs": [
    {
     "name": "stdout",
     "output_type": "stream",
     "text": [
      "[[ 1  0 -3  2]\n",
      " [ 2  0  1  1]\n",
      " [-1  0 -1  0]]\n"
     ]
    }
   ],
   "source": [
    "# Numpy\n",
    "import numpy as np\n",
    "\n",
    "M = np.matrix([[1, 0, -3, 2], [2, 0, 1, 1], [-1, 0, -1, 0]])\n",
    "print(M)"
   ]
  },
  {
   "cell_type": "markdown",
   "metadata": {},
   "source": [
    "Ahora es más sencillo sumar matrices, pues solamente necesitamos el operador `+`"
   ]
  },
  {
   "cell_type": "code",
   "execution_count": 11,
   "metadata": {},
   "outputs": [
    {
     "name": "stdout",
     "output_type": "stream",
     "text": [
      "[[ 0 -2 -3]\n",
      " [ 0  3  1]\n",
      " [-1 -1 -3]]\n"
     ]
    }
   ],
   "source": [
    "A = np.matrix([[1, 0, -3], [2, 0, 1], [-1, -1, 0]])\n",
    "B = np.matrix([[-1, -2, 0], [-2, 3, 0], [0, 0, -3]])\n",
    "matrix_sum = A + B\n",
    "print(matrix_sum)"
   ]
  },
  {
   "cell_type": "markdown",
   "metadata": {},
   "source": [
    "También es más sencillo hacer el producto matricial $A\\cdot B$ con el método `.dot()` o bien utilizar el `@` como símbolo de operador de multiplicación"
   ]
  },
  {
   "cell_type": "code",
   "execution_count": 12,
   "metadata": {},
   "outputs": [
    {
     "name": "stdout",
     "output_type": "stream",
     "text": [
      "[[ 1  0  7]\n",
      " [-1 -3 -4]\n",
      " [ 1  2  3]]\n"
     ]
    }
   ],
   "source": [
    "A = np.matrix([[1, 0, -3, 2], [2, 0, 1, 1], [-1, 0, -1, 0]])\n",
    "B = np.matrix([[-1, -2, 0], [-2, 3, 0], [0, 0, -3], [1, 1, -1]])\n",
    "\n",
    "matrix_prod = A.dot(B)\n",
    "print(matrix_prod)"
   ]
  },
  {
   "cell_type": "code",
   "execution_count": 13,
   "metadata": {},
   "outputs": [
    {
     "name": "stdout",
     "output_type": "stream",
     "text": [
      "[[ 1  0  7]\n",
      " [-1 -3 -4]\n",
      " [ 1  2  3]]\n"
     ]
    }
   ],
   "source": [
    "# Otra manera\n",
    "A = np.matrix([[1, 0, -3, 2], [2, 0, 1, 1], [-1, 0, -1, 0]])\n",
    "B = np.matrix([[-1, -2, 0], [-2, 3, 0], [0, 0, -3], [1, 1, -1]])\n",
    "\n",
    "matrix_prod = A@B\n",
    "print(matrix_prod)"
   ]
  }
 ],
 "metadata": {
  "kernelspec": {
   "display_name": "Python 3.10.4 ('lynn')",
   "language": "python",
   "name": "python3"
  },
  "language_info": {
   "codemirror_mode": {
    "name": "ipython",
    "version": 3
   },
   "file_extension": ".py",
   "mimetype": "text/x-python",
   "name": "python",
   "nbconvert_exporter": "python",
   "pygments_lexer": "ipython3",
   "version": "3.10.4"
  },
  "orig_nbformat": 4,
  "vscode": {
   "interpreter": {
    "hash": "92073a8c30dde1ab596e56ff5cb9fa2f745c4f15a3073b2b9d3c325053134832"
   }
  }
 },
 "nbformat": 4,
 "nbformat_minor": 2
}
