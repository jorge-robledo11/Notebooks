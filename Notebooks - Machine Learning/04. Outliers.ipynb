{
 "cells": [
  {
   "cell_type": "code",
   "execution_count": 1,
   "metadata": {},
   "outputs": [],
   "source": [
    "import pandas as pd\n",
    "import numpy as np\n",
    "import matplotlib.pyplot as plt\n",
    "import seaborn as sns"
   ]
  },
  {
   "cell_type": "code",
   "execution_count": 2,
   "metadata": {},
   "outputs": [
    {
     "data": {
      "text/html": [
       "<div>\n",
       "<style scoped>\n",
       "    .dataframe tbody tr th:only-of-type {\n",
       "        vertical-align: middle;\n",
       "    }\n",
       "\n",
       "    .dataframe tbody tr th {\n",
       "        vertical-align: top;\n",
       "    }\n",
       "\n",
       "    .dataframe thead th {\n",
       "        text-align: right;\n",
       "    }\n",
       "</style>\n",
       "<table border=\"1\" class=\"dataframe\">\n",
       "  <thead>\n",
       "    <tr style=\"text-align: right;\">\n",
       "      <th></th>\n",
       "      <th>Rio</th>\n",
       "      <th>Millas</th>\n",
       "    </tr>\n",
       "  </thead>\n",
       "  <tbody>\n",
       "    <tr>\n",
       "      <th>0</th>\n",
       "      <td>1</td>\n",
       "      <td>735</td>\n",
       "    </tr>\n",
       "    <tr>\n",
       "      <th>1</th>\n",
       "      <td>2</td>\n",
       "      <td>320</td>\n",
       "    </tr>\n",
       "    <tr>\n",
       "      <th>2</th>\n",
       "      <td>3</td>\n",
       "      <td>325</td>\n",
       "    </tr>\n",
       "    <tr>\n",
       "      <th>3</th>\n",
       "      <td>4</td>\n",
       "      <td>392</td>\n",
       "    </tr>\n",
       "    <tr>\n",
       "      <th>4</th>\n",
       "      <td>5</td>\n",
       "      <td>524</td>\n",
       "    </tr>\n",
       "  </tbody>\n",
       "</table>\n",
       "</div>"
      ],
      "text/plain": [
       "   Rio  Millas\n",
       "0    1     735\n",
       "1    2     320\n",
       "2    3     325\n",
       "3    4     392\n",
       "4    5     524"
      ]
     },
     "execution_count": 2,
     "metadata": {},
     "output_type": "execute_result"
    }
   ],
   "source": [
    "data = pd.read_csv('https://github.com/rociochavezmx/Rocio-Chavez-youtube-Files/raw/master/Rios.csv')\n",
    "data.head()"
   ]
  },
  {
   "cell_type": "code",
   "execution_count": 3,
   "metadata": {},
   "outputs": [
    {
     "data": {
      "image/png": "[encoded data removed]",
      "text/plain": [
       "<Figure size 432x288 with 1 Axes>"
      ]
     },
     "metadata": {
      "needs_background": "light"
     },
     "output_type": "display_data"
    }
   ],
   "source": [
    "plt.title('Rios')\n",
    "sns.histplot(data['Millas'], lw=1, edgecolor='red', color='orange')\n",
    "plt.grid()\n",
    "plt.tight_layout()"
   ]
  },
  {
   "cell_type": "code",
   "execution_count": 4,
   "metadata": {},
   "outputs": [
    {
     "data": {
      "image/png": "[encoded data removed]",
      "text/plain": [
       "<Figure size 432x288 with 1 Axes>"
      ]
     },
     "metadata": {
      "needs_background": "light"
     },
     "output_type": "display_data"
    }
   ],
   "source": [
    "plt.title('Rios')\n",
    "plt.boxplot(data['Millas'], vert=False)\n",
    "plt.grid()\n",
    "plt.tight_layout()"
   ]
  },
  {
   "cell_type": "code",
   "execution_count": 5,
   "metadata": {},
   "outputs": [
    {
     "name": "stdout",
     "output_type": "stream",
     "text": [
      "Primer quartil 310.0\n",
      "Primer quartil 680.0\n",
      "Rango intercuartil 370.0\n",
      "Mediana 591.18\n",
      "Valor Mínimo 135\n",
      "Valor Máximo 3710\n"
     ]
    }
   ],
   "source": [
    "# Estadísticos\n",
    "\n",
    "Q1 = data['Millas'].quantile(0.25)\n",
    "print('Primer quartil', Q1)\n",
    "\n",
    "Q3 = data['Millas'].quantile(0.75)\n",
    "print('Primer quartil', Q3)\n",
    "\n",
    "IQR = Q3 - Q1\n",
    "print('Rango intercuartil', IQR)\n",
    "\n",
    "Mediana = data['Millas'].mean()\n",
    "print('Mediana %0.2f' % Mediana)\n",
    "\n",
    "Valor_Minimo = data['Millas'].min()\n",
    "print('Valor Mínimo', Valor_Minimo)\n",
    "\n",
    "Valor_Maximo = data['Millas'].max()\n",
    "print('Valor Máximo', Valor_Maximo)"
   ]
  },
  {
   "cell_type": "code",
   "execution_count": 6,
   "metadata": {},
   "outputs": [
    {
     "name": "stdout",
     "output_type": "stream",
     "text": [
      "Bigote inferior -245.0\n",
      "Bigote superior 1235.0\n"
     ]
    }
   ],
   "source": [
    "# Cota Superior e Inferior\n",
    "\n",
    "cota_inferior = (Q1 - 1.5 * IQR)\n",
    "print('Bigote inferior', cota_inferior)\n",
    "\n",
    "cota_superior = (Q3 + 1.5 * IQR)\n",
    "print('Bigote superior', cota_superior)"
   ]
  },
  {
   "cell_type": "code",
   "execution_count": 7,
   "metadata": {},
   "outputs": [
    {
     "name": "stdout",
     "output_type": "stream",
     "text": [
      "0      False\n",
      "1      False\n",
      "2      False\n",
      "3      False\n",
      "4      False\n",
      "       ...  \n",
      "136    False\n",
      "137    False\n",
      "138    False\n",
      "139    False\n",
      "140     True\n",
      "Name: Millas, Length: 141, dtype: bool\n"
     ]
    }
   ],
   "source": [
    "# Índices de outliers\n",
    "\n",
    "idx_outliers = (data['Millas'] < cota_inferior) | (data['Millas'] > cota_superior)\n",
    "print(idx_outliers)"
   ]
  },
  {
   "cell_type": "code",
   "execution_count": 8,
   "metadata": {},
   "outputs": [
    {
     "name": "stdout",
     "output_type": "stream",
     "text": [
      "Lista de outliers 11\n"
     ]
    }
   ],
   "source": [
    "# Detección de outliers\n",
    "outliers = data[idx_outliers]\n",
    "print('Lista de outliers', len(outliers))"
   ]
  },
  {
   "cell_type": "code",
   "execution_count": 9,
   "metadata": {},
   "outputs": [
    {
     "data": {
      "text/plain": [
       "130"
      ]
     },
     "execution_count": 9,
     "metadata": {},
     "output_type": "execute_result"
    }
   ],
   "source": [
    "no_outliers = (data['Millas'] >= cota_inferior) &  (data['Millas'] <= cota_superior)\n",
    "sin_outliers = data[no_outliers]\n",
    "len(sin_outliers)"
   ]
  },
  {
   "cell_type": "code",
   "execution_count": 10,
   "metadata": {},
   "outputs": [
    {
     "data": {
      "image/png": "[encoded data removed]",
      "text/plain": [
       "<Figure size 432x288 with 1 Axes>"
      ]
     },
     "metadata": {
      "needs_background": "light"
     },
     "output_type": "display_data"
    }
   ],
   "source": [
    "# Boxplot\n",
    "plt.title('Rios')\n",
    "plt.boxplot(sin_outliers['Millas'], vert=False)\n",
    "plt.grid()\n",
    "plt.tight_layout()"
   ]
  },
  {
   "cell_type": "code",
   "execution_count": 11,
   "metadata": {},
   "outputs": [
    {
     "data": {
      "text/plain": [
       "130"
      ]
     },
     "execution_count": 11,
     "metadata": {},
     "output_type": "execute_result"
    }
   ],
   "source": [
    "from feature_engine.outliers import OutlierTrimmer\n",
    "\n",
    "# fold puede ser 1.5 std ó 3 std\n",
    "outlier = OutlierTrimmer(capping_method='iqr', fold=1.5)\n",
    "sin_outliers2 = outlier.fit_transform(data)\n",
    "len(sin_outliers2)"
   ]
  },
  {
   "cell_type": "code",
   "execution_count": 12,
   "metadata": {},
   "outputs": [
    {
     "data": {
      "image/png": "[encoded data removed]",
      "text/plain": [
       "<Figure size 432x288 with 1 Axes>"
      ]
     },
     "metadata": {
      "needs_background": "light"
     },
     "output_type": "display_data"
    }
   ],
   "source": [
    "# Boxplot\n",
    "plt.title('Rios')\n",
    "plt.boxplot(sin_outliers2['Millas'], vert=False)\n",
    "plt.grid()\n",
    "plt.tight_layout()"
   ]
  }
 ],
 "metadata": {
  "interpreter": {
   "hash": "92073a8c30dde1ab596e56ff5cb9fa2f745c4f15a3073b2b9d3c325053134832"
  },
  "kernelspec": {
   "display_name": "Python 3.10.4 ('lynn')",
   "language": "python",
   "name": "python3"
  },
  "language_info": {
   "codemirror_mode": {
    "name": "ipython",
    "version": 3
   },
   "file_extension": ".py",
   "mimetype": "text/x-python",
   "name": "python",
   "nbconvert_exporter": "python",
   "pygments_lexer": "ipython3",
   "version": "3.10.4"
  },
  "orig_nbformat": 4
 },
 "nbformat": 4,
 "nbformat_minor": 2
}
