{
 "cells": [
  {
   "cell_type": "markdown",
   "metadata": {},
   "source": [
    "# **Prueba de hipótesis**"
   ]
  },
  {
   "cell_type": "code",
   "execution_count": 1,
   "metadata": {},
   "outputs": [],
   "source": [
    "# Librerías\n",
    "import pandas as pd\n",
    "from pandas import DataFrame\n",
    "import matplotlib.pyplot as plt\n",
    "import seaborn as sns\n",
    "import numpy as np"
   ]
  },
  {
   "cell_type": "markdown",
   "metadata": {},
   "source": [
    "### **Varianza conocida**"
   ]
  },
  {
   "cell_type": "code",
   "execution_count": 2,
   "metadata": {},
   "outputs": [
    {
     "data": {
      "text/html": [
       "<div>\n",
       "<style scoped>\n",
       "    .dataframe tbody tr th:only-of-type {\n",
       "        vertical-align: middle;\n",
       "    }\n",
       "\n",
       "    .dataframe tbody tr th {\n",
       "        vertical-align: top;\n",
       "    }\n",
       "\n",
       "    .dataframe thead th {\n",
       "        text-align: right;\n",
       "    }\n",
       "</style>\n",
       "<table border=\"1\" class=\"dataframe\">\n",
       "  <thead>\n",
       "    <tr style=\"text-align: right;\">\n",
       "      <th></th>\n",
       "      <th>salarios</th>\n",
       "    </tr>\n",
       "  </thead>\n",
       "  <tbody>\n",
       "    <tr>\n",
       "      <th>0</th>\n",
       "      <td>117313.0</td>\n",
       "    </tr>\n",
       "    <tr>\n",
       "      <th>1</th>\n",
       "      <td>104002.0</td>\n",
       "    </tr>\n",
       "    <tr>\n",
       "      <th>2</th>\n",
       "      <td>113038.0</td>\n",
       "    </tr>\n",
       "    <tr>\n",
       "      <th>3</th>\n",
       "      <td>101936.0</td>\n",
       "    </tr>\n",
       "    <tr>\n",
       "      <th>4</th>\n",
       "      <td>84560.0</td>\n",
       "    </tr>\n",
       "  </tbody>\n",
       "</table>\n",
       "</div>"
      ],
      "text/plain": [
       "   salarios\n",
       "0  117313.0\n",
       "1  104002.0\n",
       "2  113038.0\n",
       "3  101936.0\n",
       "4   84560.0"
      ]
     },
     "execution_count": 2,
     "metadata": {},
     "output_type": "execute_result"
    }
   ],
   "source": [
    "# Dataset\n",
    "salarios = pd.read_csv('D:\\Python Scripts & Notebooks\\Jupyter Notebooks\\Artificial Intelligence\\Machine Learning\\Templates\\salarios.csv')\n",
    "salarios.head()"
   ]
  },
  {
   "cell_type": "markdown",
   "metadata": {},
   "source": [
    "### **Regla de decisión**\n",
    "Rechazar si: valor absoluto de Z > valor crítico positivo (z)"
   ]
  },
  {
   "cell_type": "code",
   "execution_count": 3,
   "metadata": {},
   "outputs": [
    {
     "name": "stdout",
     "output_type": "stream",
     "text": [
      "Estimadores\n",
      "• Muestra 30\n",
      "• Media: 100200.37\n",
      "• Desviacón estándar: 15000.00\n",
      "• Error estándar: 2738.61\n",
      "• Los Data Scientist ganan Hipótesis nula: 113000.00 dolares anuales\n",
      "• Z: 4.67\n",
      "• Valor crítico (z): 1.96\n",
      "\n",
      "Razonamiento\n",
      "En en el nivel significación de un 5% hemos rechazado la hipótesis nula, ya que 4.67 > 1.96\n"
     ]
    }
   ],
   "source": [
    "# Estimadores\n",
    "print('Estimadores')\n",
    "\n",
    "# Muestra\n",
    "muestra = len(salarios)\n",
    "print(f'• Muestra {muestra}')\n",
    "\n",
    "# Media\n",
    "media = salarios['salarios'].mean()\n",
    "print(f'• Media: {media:0.2f}')\n",
    "\n",
    "# Desviación estándar poblacional\n",
    "std = 15000\n",
    "print((f'• Desviacón estándar: {std:0.2f}'))\n",
    "\n",
    "# Error estándar\n",
    "standard_error = std / np.sqrt(len(salarios))\n",
    "print((f'• Error estándar: {standard_error:0.2f}'))\n",
    "\n",
    "# Hipótesis nula (Salario reportado por Glassdor)\n",
    "h_0 = 113000\n",
    "print(f'• Los Data Scientist ganan Hipótesis nula: {h_0:0.2f} dolares anuales')\n",
    "\n",
    "# Estandarización\n",
    "Z = (media - h_0) / standard_error\n",
    "print(f'• Z: {abs(Z):0.2f}')\n",
    "\n",
    "# Valor crítico\n",
    "z = 1.96\n",
    "print(f'• Valor crítico (z): {z}')\n",
    "\n",
    "# Razonamiento\n",
    "print('\\nRazonamiento')\n",
    "print(f'En en el nivel significación de un 5% hemos rechazado la hipótesis nula, ya que {abs(Z):0.2f} > {z}')"
   ]
  },
  {
   "cell_type": "code",
   "execution_count": 4,
   "metadata": {},
   "outputs": [
    {
     "name": "stdout",
     "output_type": "stream",
     "text": [
      "Estimadores\n",
      "• Muestra 30\n",
      "• Media: 100200.37\n",
      "• Desviacón estándar: 15000.00\n",
      "• Error estándar: 2738.61\n",
      "• Los Data Scientist ganan Hipótesis nula: 113000.00 dolares anuales\n",
      "• Z: 4.67\n",
      "• Valor crítico (z): 1.65\n",
      "\n",
      "Razonamiento\n",
      "En en el nivel significación de un 10% hemos rechazado la hipótesis nula, ya que 4.67 > 1.65\n"
     ]
    }
   ],
   "source": [
    "# Estimadores\n",
    "print('Estimadores')\n",
    "\n",
    "# Muestra\n",
    "muestra = len(salarios)\n",
    "print(f'• Muestra {muestra}')\n",
    "\n",
    "# Media\n",
    "media = salarios['salarios'].mean()\n",
    "print(f'• Media: {media:0.2f}')\n",
    "\n",
    "# Desviación estándar poblacional\n",
    "std = 15000\n",
    "print((f'• Desviacón estándar: {std:0.2f}'))\n",
    "\n",
    "# Error estándar\n",
    "standard_error = std / np.sqrt(len(salarios))\n",
    "print((f'• Error estándar: {standard_error:0.2f}'))\n",
    "\n",
    "# Hipótesis nula (Salario reportado por Glassdor)\n",
    "h_0 = 113000\n",
    "print(f'• Los Data Scientist ganan Hipótesis nula: {h_0:0.2f} dolares anuales')\n",
    "\n",
    "# Estandarización\n",
    "Z = (media - h_0) / standard_error\n",
    "print(f'• Z: {abs(Z):0.2f}')\n",
    "\n",
    "# Valor crítico\n",
    "z = 1.65\n",
    "print(f'• Valor crítico (z): {z}')\n",
    "\n",
    "# Razonamiento\n",
    "print('\\nRazonamiento')\n",
    "print(f'En en el nivel significación de un 10% hemos rechazado la hipótesis nula, ya que {abs(Z):0.2f} > {z}')"
   ]
  },
  {
   "cell_type": "markdown",
   "metadata": {},
   "source": [
    "### **Varianza desconocida** (Caso más común)"
   ]
  },
  {
   "cell_type": "code",
   "execution_count": 5,
   "metadata": {},
   "outputs": [
    {
     "data": {
      "text/html": [
       "<div>\n",
       "<style scoped>\n",
       "    .dataframe tbody tr th:only-of-type {\n",
       "        vertical-align: middle;\n",
       "    }\n",
       "\n",
       "    .dataframe tbody tr th {\n",
       "        vertical-align: top;\n",
       "    }\n",
       "\n",
       "    .dataframe thead th {\n",
       "        text-align: right;\n",
       "    }\n",
       "</style>\n",
       "<table border=\"1\" class=\"dataframe\">\n",
       "  <thead>\n",
       "    <tr style=\"text-align: right;\">\n",
       "      <th></th>\n",
       "      <th>Valores</th>\n",
       "    </tr>\n",
       "  </thead>\n",
       "  <tbody>\n",
       "    <tr>\n",
       "      <th>0</th>\n",
       "      <td>0.26</td>\n",
       "    </tr>\n",
       "    <tr>\n",
       "      <th>1</th>\n",
       "      <td>0.23</td>\n",
       "    </tr>\n",
       "    <tr>\n",
       "      <th>2</th>\n",
       "      <td>0.42</td>\n",
       "    </tr>\n",
       "    <tr>\n",
       "      <th>3</th>\n",
       "      <td>0.49</td>\n",
       "    </tr>\n",
       "    <tr>\n",
       "      <th>4</th>\n",
       "      <td>0.23</td>\n",
       "    </tr>\n",
       "  </tbody>\n",
       "</table>\n",
       "</div>"
      ],
      "text/plain": [
       "   Valores\n",
       "0     0.26\n",
       "1     0.23\n",
       "2     0.42\n",
       "3     0.49\n",
       "4     0.23"
      ]
     },
     "execution_count": 5,
     "metadata": {},
     "output_type": "execute_result"
    }
   ],
   "source": [
    "# Dataset\n",
    "valores = {\n",
    "    'Valores': [0.26, 0.23, 0.42, 0.49, 0.23, 0.59, 0.29, 0.29, 0.57, 0.40]\n",
    "}\n",
    "\n",
    "ratio = pd.DataFrame(valores)\n",
    "ratio.head()"
   ]
  },
  {
   "cell_type": "code",
   "execution_count": 6,
   "metadata": {},
   "outputs": [
    {
     "name": "stdout",
     "output_type": "stream",
     "text": [
      "Estimadores\n",
      "• Muestra 10\n",
      "• Media: 0.38\n",
      "• Desviacón estándar: 0.14\n",
      "• Error estándar: 0.04\n",
      "• Hipótesis nula: 0.40\n",
      "• T: -0.53\n",
      "• Valor crítico (t-Student): 1.83\n",
      "\n",
      "Razonamiento\n",
      "• En en el nivel significación de un 5% hemos aceptado la hipótesis nula, ya que 0.53 < 1.83\n",
      "• Dado que el p-value es 0.304 y es mayor a 0.05, aceptamos la hipótesis nula\n"
     ]
    }
   ],
   "source": [
    "# Estimadores\n",
    "print('Estimadores')\n",
    "\n",
    "# Muestra\n",
    "muestra = len(ratio)\n",
    "print(f'• Muestra {muestra}')\n",
    "\n",
    "# Media\n",
    "media = ratio['Valores'].mean()\n",
    "print(f'• Media: {media:0.2f}')\n",
    "\n",
    "# Desviación estándar poblacional\n",
    "std = ratio['Valores'].std()\n",
    "print((f'• Desviacón estándar: {std:0.2f}'))\n",
    "\n",
    "# Error estándar\n",
    "standard_error = std / np.sqrt(len(ratio))\n",
    "print((f'• Error estándar: {standard_error:0.2f}'))\n",
    "\n",
    "# Hipótesis nula (Salario reportado por Glassdor)\n",
    "h_0 = 0.40\n",
    "print(f'• Hipótesis nula: {h_0:0.2f}')\n",
    "\n",
    "# Estandarización\n",
    "T = (media - h_0) / standard_error\n",
    "print(f'• T: {(T):0.2f}')\n",
    "\n",
    "# Valor crítico\n",
    "t = 1.83\n",
    "print(f'• Valor crítico (t-Student): {t}')\n",
    "\n",
    "# p-value\n",
    "p_value = 0.304\n",
    "\n",
    "# Razonamiento\n",
    "print('\\nRazonamiento')\n",
    "print(f'• En en el nivel significación de un 5% hemos aceptado la hipótesis nula, ya que {abs(T):0.2f} < {t}')\n",
    "print(f'• Dado que el p-value es {p_value} y es mayor a 0.05, aceptamos la hipótesis nula')"
   ]
  },
  {
   "cell_type": "markdown",
   "metadata": {},
   "source": [
    "### **Varianza desconocida**\n",
    "### **Muestras dependientes**"
   ]
  },
  {
   "cell_type": "code",
   "execution_count": 7,
   "metadata": {},
   "outputs": [
    {
     "data": {
      "text/html": [
       "<div>\n",
       "<style scoped>\n",
       "    .dataframe tbody tr th:only-of-type {\n",
       "        vertical-align: middle;\n",
       "    }\n",
       "\n",
       "    .dataframe tbody tr th {\n",
       "        vertical-align: top;\n",
       "    }\n",
       "\n",
       "    .dataframe thead th {\n",
       "        text-align: right;\n",
       "    }\n",
       "</style>\n",
       "<table border=\"1\" class=\"dataframe\">\n",
       "  <thead>\n",
       "    <tr style=\"text-align: right;\">\n",
       "      <th></th>\n",
       "      <th>Before</th>\n",
       "      <th>After</th>\n",
       "      <th>Difference</th>\n",
       "    </tr>\n",
       "  </thead>\n",
       "  <tbody>\n",
       "    <tr>\n",
       "      <th>0</th>\n",
       "      <td>2.0</td>\n",
       "      <td>1.7</td>\n",
       "      <td>0.3</td>\n",
       "    </tr>\n",
       "    <tr>\n",
       "      <th>1</th>\n",
       "      <td>1.4</td>\n",
       "      <td>1.7</td>\n",
       "      <td>-0.3</td>\n",
       "    </tr>\n",
       "    <tr>\n",
       "      <th>2</th>\n",
       "      <td>1.3</td>\n",
       "      <td>1.8</td>\n",
       "      <td>-0.5</td>\n",
       "    </tr>\n",
       "    <tr>\n",
       "      <th>3</th>\n",
       "      <td>1.1</td>\n",
       "      <td>1.3</td>\n",
       "      <td>-0.2</td>\n",
       "    </tr>\n",
       "    <tr>\n",
       "      <th>4</th>\n",
       "      <td>1.8</td>\n",
       "      <td>1.7</td>\n",
       "      <td>0.1</td>\n",
       "    </tr>\n",
       "  </tbody>\n",
       "</table>\n",
       "</div>"
      ],
      "text/plain": [
       "   Before  After  Difference\n",
       "0     2.0    1.7         0.3\n",
       "1     1.4    1.7        -0.3\n",
       "2     1.3    1.8        -0.5\n",
       "3     1.1    1.3        -0.2\n",
       "4     1.8    1.7         0.1"
      ]
     },
     "execution_count": 7,
     "metadata": {},
     "output_type": "execute_result"
    }
   ],
   "source": [
    "# Dataset\n",
    "vals = {\n",
    "    'Before': [2, 1.4, 1.3, 1.1, 1.8, 1.6, 1.5, 0.7, 0.9, 1.5],\n",
    "    'After': [1.7, 1.7, 1.8, 1.3, 1.7, 1.5, 1.6, 1.7, 1.7, 2.4],\n",
    "    'Difference': [0.3, -0.3, -0.5, -0.2, 0.1, 0.1, -0.1, -1, -0.8, -0.9]\n",
    "}\n",
    "\n",
    "mg = pd.DataFrame(vals)\n",
    "mg.head()"
   ]
  },
  {
   "cell_type": "code",
   "execution_count": 8,
   "metadata": {},
   "outputs": [
    {
     "name": "stdout",
     "output_type": "stream",
     "text": [
      "Estimadores\n",
      "• Muestra 10\n",
      "• Media: -0.33\n",
      "• Desviacón estándar: 0.45\n",
      "• Error estándar: 0.14\n",
      "• Hipótesis nula representa: 0.00\n",
      "\n",
      "Razonamiento\n",
      "• Dado que el p-value es 0.024 y es menor al nivel de significación del 5%, rechazamos la hipótesis nula\n",
      "• Dado que el p-value es 0.024 y es mayor al nivel de significación del 1%, aceptamos la hipótesis nula\n",
      "• Es más conveniente trabajar con una muestra más grande para estos casos\n"
     ]
    }
   ],
   "source": [
    "# Estimadores\n",
    "print('Estimadores')\n",
    "\n",
    "# Muestra\n",
    "muestra = len(mg)\n",
    "print(f'• Muestra {muestra}')\n",
    "\n",
    "# Media\n",
    "media = mg['Difference'].mean()\n",
    "print(f'• Media: {media:0.2f}')\n",
    "\n",
    "# Desviación estándar poblacional\n",
    "std = mg['Difference'].std()\n",
    "print((f'• Desviacón estándar: {std:0.2f}'))\n",
    "\n",
    "# Error estándar\n",
    "standard_error = std / np.sqrt(len(mg))\n",
    "print((f'• Error estándar: {standard_error:0.2f}'))\n",
    "\n",
    "# Hipótesis nula (Salario reportado por Glassdor)\n",
    "h_0 = 0\n",
    "print(f'• Hipótesis nula representa: {h_0:0.2f}')\n",
    "\n",
    "# p-value\n",
    "p_value = 0.024\n",
    "\n",
    "# # Razonamiento\n",
    "print('\\nRazonamiento')\n",
    "print(f'• Dado que el p-value es {p_value} y es menor al nivel de significación del 5%, rechazamos la hipótesis nula')\n",
    "print(f'• Dado que el p-value es {p_value} y es mayor al nivel de significación del 1%, aceptamos la hipótesis nula')\n",
    "print(f'• Es más conveniente trabajar con una muestra más grande para estos casos')"
   ]
  },
  {
   "cell_type": "markdown",
   "metadata": {},
   "source": [
    "### **Varianza conocida**\n",
    "### **Muestras independientes**"
   ]
  },
  {
   "cell_type": "code",
   "execution_count": 9,
   "metadata": {},
   "outputs": [
    {
     "name": "stdout",
     "output_type": "stream",
     "text": [
      "Estimadores\n",
      "• Media: 15.00\n",
      "• Desviacón estándar: 6.40\n",
      "• Hipótesis nula representa: 0.00\n",
      "• Valor crítico (t-Student): 2.34\n",
      "\n",
      "Razonamiento\n",
      "• Dado que el p-value es 0.01 y es menor al nivel de significación del 5%, rechazamos la hipótesis nula\n",
      "• Es más conveniente trabajar con una muestra más grande para estos casos\n"
     ]
    }
   ],
   "source": [
    "# Estimadores\n",
    "print('Estimadores')\n",
    "\n",
    "# Media\n",
    "media = 15\n",
    "print(f'• Media: {media:0.2f}')\n",
    "\n",
    "# Desviación estándar poblacional\n",
    "std = 6.40\n",
    "print((f'• Desviacón estándar: {std:0.2f}'))\n",
    "\n",
    "# Hipótesis nula (Salario reportado por Glassdor)\n",
    "h_0 = 0\n",
    "print(f'• Hipótesis nula representa: {h_0:0.2f}')\n",
    "\n",
    "# Valor crítico\n",
    "t = 2.34\n",
    "print(f'• Valor crítico (t-Student): {t}')\n",
    "\n",
    "# p-value\n",
    "p_value = 0.010\n",
    "\n",
    "# # Razonamiento\n",
    "print('\\nRazonamiento')\n",
    "print(f'• Dado que el p-value es {p_value} y es menor al nivel de significación del 5%, rechazamos la hipótesis nula')\n",
    "print(f'• Es más conveniente trabajar con una muestra más grande para estos casos')"
   ]
  },
  {
   "cell_type": "markdown",
   "metadata": {},
   "source": [
    "### **Varianza desconocida**\n",
    "### **Muestra pequeña**"
   ]
  },
  {
   "cell_type": "code",
   "execution_count": 10,
   "metadata": {},
   "outputs": [
    {
     "name": "stdout",
     "output_type": "stream",
     "text": [
      "Estimadores\n",
      "• Media NY: 3.94\n",
      "• Media LA: 3.25\n",
      "--------------------------------------------------\n",
      "• Desviación estándar NY: 0.18\n",
      "• Desviación estándar LA: 0.27\n",
      "--------------------------------------------------\n",
      "• Varianza Muestral Combinada: 0.05\n",
      "• Desviacón estándar Muestral Combinada: 0.22\n",
      "--------------------------------------------------\n",
      "• Valor crítico T: 0.53\n",
      "--------------------------------------------------\n",
      "• P-value: 0.00\n",
      "--------------\n",
      "Razonamiento\n",
      "• Podemos decir que los precios son diferentes sin necesidad de pruebas\n"
     ]
    }
   ],
   "source": [
    "# Estimadores\n",
    "print('Estimadores')\n",
    "\n",
    "# Media\n",
    "ny_media = 3.94\n",
    "print(f'• Media NY: {ny_media:0.2f}')\n",
    "\n",
    "la_media = 3.25\n",
    "print(f'• Media LA: {la_media:0.2f}')\n",
    "print('-'*50)\n",
    "\n",
    "# Desviación estándar\n",
    "ny_std = 0.18\n",
    "print(f'• Desviación estándar NY: {ny_std:0.2f}')\n",
    "\n",
    "la_std = 0.27\n",
    "print(f'• Desviación estándar LA: {la_std:0.2f}')\n",
    "print('-'*50)\n",
    "\n",
    "# Error estándar\n",
    "\n",
    "# Varianza y Desviación combinada\n",
    "# Función para hallar la varianza muestral combinada\n",
    "def varianza_muestral_combinada(data:int, data2:int, std:float, std2:float):\n",
    "    tmp = (data - 1) * std**2 + (data2 - 1) * std2**2\n",
    "    tmp = tmp / (data + data2 - 2)\n",
    "    return tmp\n",
    "\n",
    "vmc = varianza_muestral_combinada(data=10, data2=8, std=ny_std, std2=la_std)\n",
    "\n",
    "print(f'• Varianza Muestral Combinada: {vmc:0.2f}')\n",
    "print(f'• Desviacón estándar Muestral Combinada: {np.sqrt(vmc):0.2f}')\n",
    "print('-'*50)\n",
    "\n",
    "# Valor Crítico\n",
    "T = 0.53\n",
    "print(f'• Valor crítico T: {T}')\n",
    "print('-'*50)\n",
    "\n",
    "# p-value\n",
    "p_value = 0.000001\n",
    "print(f'• P-value: {p_value:0.2f}')\n",
    "print('-'*14)\n",
    "\n",
    "# Razonamiento\n",
    "print('Razonamiento')\n",
    "print(f'• Podemos decir que los precios son diferentes sin necesidad de pruebas')"
   ]
  }
 ],
 "metadata": {
  "kernelspec": {
   "display_name": "Python 3.10.4 ('lynn')",
   "language": "python",
   "name": "python3"
  },
  "language_info": {
   "codemirror_mode": {
    "name": "ipython",
    "version": 3
   },
   "file_extension": ".py",
   "mimetype": "text/x-python",
   "name": "python",
   "nbconvert_exporter": "python",
   "pygments_lexer": "ipython3",
   "version": "3.10.4"
  },
  "orig_nbformat": 4,
  "vscode": {
   "interpreter": {
    "hash": "92073a8c30dde1ab596e56ff5cb9fa2f745c4f15a3073b2b9d3c325053134832"
   }
  }
 },
 "nbformat": 4,
 "nbformat_minor": 2
}
